{
 "cells": [
  {
   "cell_type": "code",
   "execution_count": 1,
   "id": "db8a7c20-8c55-4008-9ab9-514b9f4d6081",
   "metadata": {},
   "outputs": [],
   "source": [
    "SEQ = \"GAGGAGGAAGGGAGGGGGATGAGGAGGAAGGAGGGGGGGATGAGGAGGAAGGAGAGGGGGATCAGAAGGAAGATGGGGGGATTAGGAGGAAGAGGGGGGGGATGTGGAAGAAAGAGAGGAGGGTGAGCATAAAGGAGAGGGGGAGAGGAGCAAGGAGAGGGGTGGATGAGGAGGAAGGAGAGGGAAGGATGAGGAGGAAGGAGAGGAGGATGAGAAGCAAGGAGAGGGAGGATGCAGAGGAAGGAGATAGGGGATGGGGAGGAAGGAGAGG\"\n",
    "REF1=                                      \"GGGATGAGGAGGAAGGAGGGGGGATGAGGAGGAAGGAGGGGGGATGAGGAGGAAGGAGGGGGGATGAGGAGGAAG\"\n"
   ]
  },
  {
   "cell_type": "code",
   "execution_count": 11,
   "id": "a1eeba8d-cbf8-4d9f-ad75-338af6650119",
   "metadata": {},
   "outputs": [
    {
     "data": {
      "text/plain": [
       "[('AB', 2), ('BA', 1), ('BC', 1), ('CD', 1)]"
      ]
     },
     "execution_count": 11,
     "metadata": {},
     "output_type": "execute_result"
    }
   ],
   "source": [
    "def sized_substr(s, l):\n",
    "    return [s[ofs:ofs+l] for ofs in range(len(s) - l + 1)]\n",
    "\n",
    "def sized_dict(s, l):\n",
    "    d = {}\n",
    "    for ss in sized_substr(s, l):\n",
    "        if ss in d:\n",
    "            d[ss] += 1\n",
    "        else:\n",
    "            d[ss] = 1\n",
    "    return d\n",
    "\n",
    "def sized_list(s, l):\n",
    "    sl = [(x,y) for x,y in sized_dict(s, l).items()]\n",
    "    return sorted(sl, key=lambda x: x[1], reverse=True)\n",
    "\n",
    "    return sl\n",
    "\n",
    "sized_list(\"ABABCD\", 2)"
   ]
  },
  {
   "cell_type": "code",
   "execution_count": 27,
   "id": "e330488c-a04c-4a8d-a807-0f1b5f0b9d11",
   "metadata": {},
   "outputs": [
    {
     "data": {
      "text/plain": [
       "[('GG', 80),\n",
       " ('GGA', 43),\n",
       " ('AGGA', 30),\n",
       " ('GAGGA', 18),\n",
       " ('AGGAGG', 9),\n",
       " ('GAGGAAG', 8),\n",
       " ('GGAGGAAG', 7),\n",
       " ('AAGGAGAGG', 7),\n",
       " ('GAGGAAGGAG', 6),\n",
       " ('GAGGAGGAAGG', 5),\n",
       " ('GGATGAGGAGGA', 4),\n",
       " ('GGATGAGGAGGAA', 4),\n",
       " ('GGATGAGGAGGAAG', 4),\n",
       " ('GGATGAGGAGGAAGG', 4),\n",
       " ('GGATGAGGAGGAAGGA', 4),\n",
       " ('GGATGAGGAGGAAGGAG', 4),\n",
       " ('GGATGAGGAGGAAGGAGA', 3),\n",
       " ('GGATGAGGAGGAAGGAGAG', 3),\n",
       " ('GGATGAGGAGGAAGGAGAGG', 3),\n",
       " ('GGATGAGGAGGAAGGAGAGGG', 2),\n",
       " ('GAGGAGGAAGGGAGGGGGATGA', 1),\n",
       " ('GAGGAGGAAGGGAGGGGGATGAG', 1),\n",
       " ('GAGGAGGAAGGGAGGGGGATGAGG', 1),\n",
       " ('GAGGAGGAAGGGAGGGGGATGAGGA', 1),\n",
       " ('GAGGAGGAAGGGAGGGGGATGAGGAG', 1),\n",
       " ('GAGGAGGAAGGGAGGGGGATGAGGAGG', 1),\n",
       " ('GAGGAGGAAGGGAGGGGGATGAGGAGGA', 1),\n",
       " ('GAGGAGGAAGGGAGGGGGATGAGGAGGAA', 1),\n",
       " ('GAGGAGGAAGGGAGGGGGATGAGGAGGAAG', 1),\n",
       " ('GAGGAGGAAGGGAGGGGGATGAGGAGGAAGG', 1)]"
      ]
     },
     "execution_count": 27,
     "metadata": {},
     "output_type": "execute_result"
    }
   ],
   "source": [
    "def top_sized(s):\n",
    "    ts = [sized_list(s,x)[0] for x in range(2, len(s)-2)]\n",
    "    return ts\n",
    "\n",
    "top_sized(SEQ)[:30]"
   ]
  },
  {
   "cell_type": "code",
   "execution_count": 28,
   "id": "33fb8665-f1e5-4e65-a062-e3e004ca21bc",
   "metadata": {},
   "outputs": [
    {
     "data": {
      "text/plain": [
       "271"
      ]
     },
     "execution_count": 28,
     "metadata": {},
     "output_type": "execute_result"
    }
   ],
   "source": [
    "len(SEQ)"
   ]
  },
  {
   "cell_type": "code",
   "execution_count": null,
   "id": "58e37e7c-d923-40b2-8304-30a8b84e5880",
   "metadata": {},
   "outputs": [],
   "source": [
    "REF1=\"GGGATGAGGAGGAAGGAGGGGGGATGAGGAGGAAGGAGGGGGGATGAGGAGGAAGGAGGGGGGATGAGGAGGAAG\"\n"
   ]
  }
 ],
 "metadata": {
  "kernelspec": {
   "display_name": "Python 3 (ipykernel)",
   "language": "python",
   "name": "python3"
  },
  "language_info": {
   "codemirror_mode": {
    "name": "ipython",
    "version": 3
   },
   "file_extension": ".py",
   "mimetype": "text/x-python",
   "name": "python",
   "nbconvert_exporter": "python",
   "pygments_lexer": "ipython3",
   "version": "3.10.10"
  }
 },
 "nbformat": 4,
 "nbformat_minor": 5
}
