{
 "cells": [
  {
   "cell_type": "code",
   "execution_count": 45,
   "id": "6083c707-3202-43d2-b3ae-e9f949a8cea1",
   "metadata": {},
   "outputs": [],
   "source": [
    "# sa walker - extract supplementary alignment regions from SA tags"
   ]
  },
  {
   "cell_type": "code",
   "execution_count": 46,
   "id": "e9d2dafd-e905-4e79-a513-c8c921e6166a",
   "metadata": {},
   "outputs": [
    {
     "name": "stdout",
     "output_type": "stream",
     "text": [
      "['/Users/drorkessler/miniconda3/lib/python3.10/site-packages/ipykernel_launcher.py', '-f', '/Users/drorkessler/Library/Jupyter/runtime/kernel-01c5df6e-55eb-41a2-ad16-e5315716b698.json']\n"
     ]
    }
   ],
   "source": [
    "import os\n",
    "import sys\n",
    "\n",
    "# args\n",
    "print(sys.argv)\n",
    "if \"sa_walker\" in sys.argv[0] or \"stdin\" in sys.argv[0]:\n",
    "    if len(sys.argv) != 6:\n",
    "        print(\"usage: \" + sys.argv[0] + \" <input-cram> <in-bed> <ref-fasta> <edge-threshold> <out-bed>\\n\")\n",
    "        sys.exit(-1)\n",
    "    # commandline invocation\n",
    "    IN_CRAM = sys.argv[1]\n",
    "    IN_BED = sys.argv[2]\n",
    "    REF_FASTA = sys.argv[3]\n",
    "    EDGE_THRESHOLD = int(sys.argv[4])\n",
    "    OUT_BED = sys.argv[5]\n",
    "else:\n",
    "    IN_CRAM = os.path.expanduser(\"~/tmp/data/jump_align/chr22.cram\")\n",
    "    IN_BED = os.path.expanduser(\"~/tmp/data/jump_align/chr22_all.bed\")\n",
    "    REF_FASTA = os.path.expanduser(\"~/tmp/ref/Homo_sapiens_assembly38.fasta\")\n",
    "    EDGE_THRESHOLD = 0\n",
    "    OUT_BED = \"/tmp/sa_walker.\" + str(os.getpid()) + \".bed\"\n",
    "\n",
    "QUANTIZE=20"
   ]
  },
  {
   "cell_type": "code",
   "execution_count": 47,
   "id": "7421f0f8-8fd7-468e-8284-68daa2c711f9",
   "metadata": {},
   "outputs": [],
   "source": [
    "from itertools import groupby\n",
    "\n",
    "def query_len(cigar_string):\n",
    "    read_consuming_ops = (\"M\", \"I\", \"S\", \"=\", \"X\")\n",
    "    result = 0\n",
    "    cig_iter = groupby(cigar_string, lambda chr: chr.isdigit())\n",
    "    for _, length_digits in cig_iter:\n",
    "        length = int(''.join(length_digits))\n",
    "        op = next(next(cig_iter)[1])\n",
    "        if op in read_consuming_ops:\n",
    "            result += length\n",
    "    return result"
   ]
  },
  {
   "cell_type": "code",
   "execution_count": 60,
   "id": "9cc37a8d-4ac6-44b0-b690-09525756900e",
   "metadata": {},
   "outputs": [
    {
     "name": "stdout",
     "output_type": "stream",
     "text": [
      "chr1 <re.Match object; span=(0, 4), match='chr1'>\n",
      "chr10 <re.Match object; span=(0, 5), match='chr10'>\n",
      "chr1_xx False\n",
      "chrX True\n",
      "chrY True\n",
      "chrEBV False\n"
     ]
    }
   ],
   "source": [
    "import networkx as nx\n",
    "import re\n",
    "graph = nx.DiGraph()\n",
    "valid_chrom_re = re.compile(r\"^chr[1-9][0-9]?$\")\n",
    "\n",
    "def chrom_valid(c):\n",
    "    return valid_chrom_re.match(c) or c == \"chrX\" or c == \"chrY\"\n",
    "    \n",
    "def process_gap(lchrom, lloc, rchrom, rloc):\n",
    "    #print(\"process_gap\", [lchrom, lloc, rchrom, rloc])\n",
    "    if chrom_valid(lchrom) and chrom_valid(rchrom):\n",
    "        lnode = (lchrom, lloc - lloc % QUANTIZE + int(QUANTIZE / 2))\n",
    "        rnode = (rchrom, rloc - rloc % QUANTIZE + int(QUANTIZE / 2))\n",
    "        if not graph.has_node(lnode):\n",
    "            graph.add_node(lnode)\n",
    "        if not graph.has_node(rnode):\n",
    "            graph.add_node(rnode)\n",
    "        if graph.has_edge(lnode, rnode):\n",
    "            data = graph.get_edge_data(lnode, rnode)\n",
    "            data[\"c\"] = data[\"c\"] + 1\n",
    "        else:\n",
    "            graph.add_edge(lnode, rnode, c=1)\n",
    "\n",
    "test_chroms = [\"chr1\", \"chr10\", \"chr1_xx\", \"chrX\", \"chrY\", \"chrEBV\"]\n",
    "for c in test_chroms:\n",
    "    print(c, chrom_valid(c))\n",
    "      "
   ]
  },
  {
   "cell_type": "code",
   "execution_count": 56,
   "id": "7c606606-de36-4269-b1e3-ec92852bd8be",
   "metadata": {},
   "outputs": [],
   "source": [
    "\n",
    "def process_sa(read):\n",
    "\n",
    "    # current alignment represents the left side of the gap\n",
    "    lchrom = read.reference_name\n",
    "    lloc = read.reference_end\n",
    "\n",
    "    sa_all = read.get_tag(\"SA\").split(\";\")\n",
    "    if sa_all[-1] == '':\n",
    "        sa_all = sa_all[:-1]\n",
    "    #print(\"sa_all\", sa_all)\n",
    "    for sa_index in range(len(sa_all)):\n",
    "        toks = sa_all[sa_index].split(\",\")\n",
    "\n",
    "        # establish right side of gap\n",
    "        #print(\"sa_index\", sa_index, \"toks\", toks)\n",
    "        rchrom = toks[0]\n",
    "        rloc = int(toks[1])\n",
    "\n",
    "        # register this gap\n",
    "        process_gap(lchrom, lloc, rchrom, rloc)\n",
    "\n",
    "        # establish next left side, if there is one\n",
    "        if sa_index + 1 < len(sa_all):\n",
    "            lchrom = rchrom\n",
    "            lloc = rloc + query_len(toks[3])\n",
    "    "
   ]
  },
  {
   "cell_type": "code",
   "execution_count": 57,
   "id": "3024fc26-b3ce-444b-b701-3d60ef7f798f",
   "metadata": {},
   "outputs": [
    {
     "name": "stdout",
     "output_type": "stream",
     "text": [
      "read_count 1000000 supp_count 75914 read chr22:18160110\n",
      "read_count 2000000 supp_count 92395 read chr22:25215724\n",
      "read_count 3000000 supp_count 104880 read chr22:32152302\n",
      "read_count 4000000 supp_count 117092 read chr22:39096855\n",
      "read_count 5000000 supp_count 130211 read chr22:46172271\n"
     ]
    }
   ],
   "source": [
    "import pysam\n",
    "\n",
    "with pysam.AlignmentFile(IN_CRAM, \"rb\", reference_filename=REF_FASTA) as samf:\n",
    "    \n",
    "    # loop on bed regions\n",
    "    read_count = 0\n",
    "    supp_count = 0\n",
    "    with open(IN_BED) as f:\n",
    "        for line in f:\n",
    "            bed_line = line.strip().split()\n",
    "            chrom, start, end = bed_line[:3]\n",
    "            start = int(start)\n",
    "            end = int(end)\n",
    "\n",
    "            # loop on reads\n",
    "            for read in samf.fetch(chrom, start, end):\n",
    "                read_count += 1\n",
    "                if read.is_supplementary:\n",
    "                    supp_count += 1\n",
    "                    process_sa(read)\n",
    "\n",
    "                if read_count % 1000000 == 0:\n",
    "                    print(\"read_count\", read_count, \"supp_count\", supp_count, \"read\", read.reference_name + \":\" + str(read.reference_start))\n",
    "                    sys.stdout.flush()\n",
    "\n"
   ]
  },
  {
   "cell_type": "code",
   "execution_count": 58,
   "id": "7844df73-3592-441c-afec-cb86b1831b01",
   "metadata": {},
   "outputs": [
    {
     "name": "stdout",
     "output_type": "stream",
     "text": [
      "len(gaps) 123146\n",
      "[('chr1', 10350), ('chr7', 131444730), 1]\n",
      "[('chr1', 10370), ('chr7', 131444770), 1]\n",
      "[('chr1', 10390), ('chr7', 131444770), 1]\n",
      "[('chr1', 789370), ('chr10', 42303510), 1]\n",
      "[('chr1', 789490), ('chr10', 38492610), 1]\n",
      "OUT_BED /tmp/sa_walker.18605.bed\n"
     ]
    }
   ],
   "source": [
    "# collect potential gaps\n",
    "gaps = []\n",
    "for edge in graph.edges:\n",
    "    c = graph.edges[edge[0], edge[1]][\"c\"]\n",
    "    if c >= EDGE_THRESHOLD:\n",
    "        gaps.append([edge[0], edge[1], c])\n",
    "\n",
    "# filter on threshold\n",
    "gaps = [x for x in gaps if x[2] >= EDGE_THRESHOLD]\n",
    "print(\"len(gaps)\", len(gaps))\n",
    "\n",
    "# sort of left edge\n",
    "def sort_key(chrom):\n",
    "    if chrom == \"chrX\":\n",
    "        return 23\n",
    "    elif chrom == \"chrY\":\n",
    "        return 24\n",
    "    elif chrom == \"chrM\":\n",
    "        return 25\n",
    "    elif chrom == \"chrEBV\":\n",
    "        return 26\n",
    "    else:\n",
    "        return int(chrom[3:])\n",
    "    \n",
    "gaps = sorted(gaps, key=lambda x: (sort_key(x[0][0]), x[0][1], sort_key(x[1][0]), x[1][1]))\n",
    "for gap in gaps[:5]:\n",
    "    print(gap)\n",
    "\n",
    "# write to output file\n",
    "print(\"OUT_BED\", OUT_BED)\n",
    "with open(OUT_BED, \"w\") as f:\n",
    "    for gap in gaps:\n",
    "        f.write(\"%s\\t%d\\t%s\\t%d\\t%d\\n\" % (gap[0][0], gap[0][1], gap[1][0], gap[1][1], gap[2]))"
   ]
  },
  {
   "cell_type": "code",
   "execution_count": 59,
   "id": "0664f799-9691-402a-aee5-f233de664f6e",
   "metadata": {},
   "outputs": [
    {
     "name": "stdout",
     "output_type": "stream",
     "text": [
      "len(fgaps) 2521\n",
      "fnamne /tmp/sa_walker.18605_fgaps.bed\n",
      "len(ggaps) 2234\n",
      "fnamne /tmp/sa_walker.18605_ggaps.bed\n"
     ]
    }
   ],
   "source": [
    "import itertools as it\n",
    "\n",
    "# filter gap to be within size threshold\n",
    "MIN_GAP_LEN = 100\n",
    "MAX_GAP_LEN = 10000\n",
    "\n",
    "# gap filtering\n",
    "def gap_ok(gap):\n",
    "    lside = gap[0]\n",
    "    rside = gap[1]\n",
    "    if lside[0] != rside[0]:\n",
    "        return False\n",
    "    delta = rside[1] - lside[1]\n",
    "    if delta < MIN_GAP_LEN or delta > MAX_GAP_LEN:\n",
    "        return False\n",
    "    return True\n",
    "fgaps = [gap for gap in gaps if gap_ok(gap)]\n",
    "print(\"len(fgaps)\", len(fgaps))\n",
    "fname = OUT_BED.replace(\".bed\", \"_fgaps.bed\")\n",
    "print(\"fnamne\", fname)\n",
    "with open(fname, \"w\") as f:\n",
    "    for gap in fgaps:\n",
    "        f.write(\"%s\\t%d\\t%d\\t%d\\n\" % (gap[0][0], gap[0][1], gap[1][1], gap[2]))\n",
    "        \n",
    "# grouping\n",
    "def group_gap(g):\n",
    "    gl = list(g[1])\n",
    "    end = max([elem[1][1] for elem in gl])\n",
    "    count = sum([elem[2] for elem in gl])\n",
    "    first = gl[0]\n",
    "    return [first[0], (first[1][0], end), count]\n",
    "ggaps = [group_gap(g) for g in it.groupby(fgaps, lambda x: x[0][1])]\n",
    "print(\"len(ggaps)\", len(ggaps))\n",
    "fname = OUT_BED.replace(\".bed\", \"_ggaps.bed\")\n",
    "print(\"fnamne\", fname)\n",
    "with open(fname, \"w\") as f:\n",
    "    for gap in ggaps:\n",
    "        f.write(\"%s\\t%d\\t%d\\t%d\\n\" % (gap[0][0], gap[0][1], gap[1][1], gap[2]))\n",
    "\n"
   ]
  },
  {
   "cell_type": "code",
   "execution_count": null,
   "id": "4f94df10-3e9e-45f8-8584-eb9d739bb1fc",
   "metadata": {},
   "outputs": [],
   "source": []
  },
  {
   "cell_type": "code",
   "execution_count": null,
   "id": "1a1b8225-c025-41ca-b4c6-bb8674ea1eb4",
   "metadata": {},
   "outputs": [],
   "source": []
  }
 ],
 "metadata": {
  "kernelspec": {
   "display_name": "Python 3 (ipykernel)",
   "language": "python",
   "name": "python3"
  },
  "language_info": {
   "codemirror_mode": {
    "name": "ipython",
    "version": 3
   },
   "file_extension": ".py",
   "mimetype": "text/x-python",
   "name": "python",
   "nbconvert_exporter": "python",
   "pygments_lexer": "ipython3",
   "version": "3.10.10"
  }
 },
 "nbformat": 4,
 "nbformat_minor": 5
}
